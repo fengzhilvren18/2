{
 "cells": [
  {
   "cell_type": "markdown",
   "id": "f0acd422",
   "metadata": {},
   "source": [
    "# 检查版本"
   ]
  },
  {
   "cell_type": "code",
   "execution_count": 1,
   "id": "4b6f6007",
   "metadata": {},
   "outputs": [
    {
     "data": {
      "text/plain": [
       "'11.7'"
      ]
     },
     "execution_count": 1,
     "metadata": {},
     "output_type": "execute_result"
    }
   ],
   "source": [
    "import torch\n",
    "torch.version.cuda"
   ]
  },
  {
   "cell_type": "code",
   "execution_count": 2,
   "id": "0e12b2fb",
   "metadata": {},
   "outputs": [
    {
     "name": "stdout",
     "output_type": "stream",
     "text": [
      "True\n",
      "1\n",
      "11.7\n",
      "2.0.0+cu117\n"
     ]
    }
   ],
   "source": [
    "import torch # 如果pytorch安装成功即可导入\n",
    "print(torch.cuda.is_available()) # 查看CUDA是否可用\n",
    "print(torch.cuda.device_count()) # 查看可用的CUDA数量\n",
    "print(torch.version.cuda) # 查看CUDA的版本号\n",
    "print(torch.__version__)"
   ]
  },
  {
   "cell_type": "markdown",
   "id": "3a6f216b",
   "metadata": {},
   "source": [
    "# 1.导入库"
   ]
  },
  {
   "cell_type": "code",
   "execution_count": 3,
   "id": "aa3492cb",
   "metadata": {},
   "outputs": [
    {
     "name": "stdout",
     "output_type": "stream",
     "text": [
      "1\n"
     ]
    }
   ],
   "source": [
    "import os\n",
    "import math\n",
    "import argparse\n",
    "import sys\n",
    "import json\n",
    "import pickle\n",
    "import random\n",
    "\n",
    "#%matplotlib inline\n",
    "import matplotlib\n",
    "import matplotlib.pyplot as plt\n",
    "\n",
    "from functools import partial\n",
    "from collections import OrderedDict\n",
    "from PIL import Image\n",
    "from tqdm import tqdm\n",
    "\n",
    "import torch\n",
    "import torch.nn as nn\n",
    "from torch.utils.data import Dataset\n",
    "import torch.optim as optim\n",
    "import torch.optim.lr_scheduler as lr_scheduler\n",
    "from torch.utils.tensorboard import SummaryWriter\n",
    "from torchvision import transforms\n",
    "\n",
    "print(1)\n",
    "\n"
   ]
  },
  {
   "cell_type": "markdown",
   "id": "2a4d1eb1",
   "metadata": {},
   "source": [
    "# 2.导入数据集和数据预处理"
   ]
  },
  {
   "cell_type": "markdown",
   "id": "c9d1e54a",
   "metadata": {},
   "source": [
    "### 2.1定义导入数据集的模型"
   ]
  },
  {
   "cell_type": "code",
   "execution_count": 4,
   "id": "a342476e",
   "metadata": {},
   "outputs": [
    {
     "name": "stdout",
     "output_type": "stream",
     "text": [
      "1\n"
     ]
    }
   ],
   "source": [
    "class MyDataSet(Dataset):\n",
    "    \"\"\"自定义数据集\"\"\"\n",
    "\n",
    "    def __init__(self, images_path: list, images_class: list, transform=None):\n",
    "        self.images_path = images_path   # 图片路径列表\n",
    "        self.images_class = images_class  # 图片对应的类别\n",
    "        self.transform = transform\n",
    "\n",
    "    def __len__(self):\n",
    "        return len(self.images_path)\n",
    "\n",
    "    def __getitem__(self, item):\n",
    "        img = Image.open(self.images_path[item])  # 打开图片\n",
    "        # RGB为彩色图片，L为灰度图片\n",
    "        if img.mode != 'RGB':  # 判断图片是否为RGB模式\n",
    "            img = img.convert('RGB')  #不是RGB则转换为RGB图像\n",
    "            #raise ValueError(\"image: {} isn't RGB mode.\".format(self.images_path[item]))\n",
    "        label = self.images_class[item]  # 获取图片对应的标签\n",
    "\n",
    "        if self.transform is not None:\n",
    "            img = self.transform(img)   # 对图片进行预处理\n",
    "\n",
    "        return img, label\n",
    "\n",
    "    @staticmethod\n",
    "    def collate_fn(batch):\n",
    "        # 官方实现的default_collate可以参考\n",
    "        # https://github.com/pytorch/pytorch/blob/67b7e751e6b5931a9f45274653f4f653a4e6cdf6/torch/utils/data/_utils/collate.py\n",
    "        images, labels = tuple(zip(*batch))   # 按照batch进行打包\n",
    "\n",
    "        images = torch.stack(images, dim=0)   # 将batch中的图片张量叠起来\n",
    "        labels = torch.as_tensor(labels)      # 将batch中的标签转换为张量\n",
    "        return images, labels\n",
    "    \n",
    "print(1)"
   ]
  },
  {
   "cell_type": "markdown",
   "id": "1bbdc4c6",
   "metadata": {},
   "source": [
    "* 数据集分割函数用于划分训练集和测试集"
   ]
  },
  {
   "cell_type": "code",
   "execution_count": 5,
   "id": "e739c9bf",
   "metadata": {},
   "outputs": [
    {
     "name": "stdout",
     "output_type": "stream",
     "text": [
      "1\n"
     ]
    }
   ],
   "source": [
    "def read_split_data(root: str, val_rate: float = 0.2):\n",
    "    random.seed(0)  # 保证随机结果可复现\n",
    "    assert os.path.exists(root), \"dataset root: {} does not exist.\".format(root) #检测指定路径是否存在数据集，不存在则抛出异常并打印错误信息。\n",
    "\n",
    "    # 遍历文件夹，一个文件夹对应一个类别，class缩写\n",
    "    #保存['daisy', 'dandelion', 'roses', 'sunflowers', 'tulips']\n",
    "    flower_class = [cla for cla in os.listdir(root) if os.path.isdir(os.path.join(root, cla))]\n",
    "    # 排序，保证顺序一致\n",
    "    flower_class.sort()\n",
    "    # 生成类别名称以及对应的数字索引，`v` 表示类别名称， `k` 表示该类别对应的数字标签。\"0\": \"daisy\",\"1\": \"dandelion\",\n",
    "    class_indices = dict((k, v) for v, k in enumerate(flower_class))\n",
    "    json_str = json.dumps(dict((val, key) for key, val in class_indices.items()), indent=4)\n",
    "    #将类别名称映射为数字标签的字典保存到 JSON 文件 class_indices.json 中。写入模式 'w' 打开文件\n",
    "    with open('class_indices.json', 'w') as json_file:  \n",
    "        json_file.write(json_str)\n",
    "\n",
    "    train_images_path = []  # 存储训练集的所有图片路径\n",
    "    train_images_label = []  # 存储训练集图片对应索引信息\n",
    "    val_images_path = []  # 存储验证集的所有图片路径\n",
    "    val_images_label = []  # 存储验证集图片对应索引信息\n",
    "    every_class_num = []  # 存储每个类别的样本总数\n",
    "    supported = [\".jpg\", \".JPG\", \".png\", \".PNG\"]  # 支持的文件后缀类型\n",
    "    # 遍历每个文件夹下的文件\n",
    "    for cla in flower_class:\n",
    "        cla_path = os.path.join(root, cla)\n",
    "        # 遍历获取supported支持的所有文件路径\n",
    "        images = [os.path.join(root, cla, i) for i in os.listdir(cla_path)\n",
    "                  if os.path.splitext(i)[-1] in supported]\n",
    "        # 获取该类别对应的索引\n",
    "        image_class = class_indices[cla]\n",
    "        # 记录该类别的样本数量\n",
    "        every_class_num.append(len(images))\n",
    "        # 按比例随机采样验证样本\n",
    "        val_path = random.sample(images, k=int(len(images) * val_rate))\n",
    "\n",
    "        for img_path in images:\n",
    "            if img_path in val_path:  # 如果该路径在采样的验证集样本中则存入验证集\n",
    "                val_images_path.append(img_path)\n",
    "                val_images_label.append(image_class)\n",
    "            else:  # 否则存入训练集\n",
    "                train_images_path.append(img_path)\n",
    "                train_images_label.append(image_class)\n",
    "\n",
    "    print(\"{} images were found in the dataset.\".format(sum(every_class_num))) #输出数据集中的图像数量和训练/验证集中的图像数量\n",
    "    print(\"{} images for training.\".format(len(train_images_path)))\n",
    "    print(\"{} images for validation.\".format(len(val_images_path)))\n",
    "\n",
    "    plot_image = True   #False\n",
    "    if plot_image:\n",
    "        # 绘制每种类别个数柱状图\n",
    "        plt.bar(range(len(flower_class)), every_class_num, align='center')\n",
    "        # 将横坐标0,1,2,3,4替换为相应的类别名称\n",
    "        plt.xticks(range(len(flower_class)), flower_class)\n",
    "        # 在柱状图上添加数值标签\n",
    "        for i, v in enumerate(every_class_num):\n",
    "            plt.text(x=i, y=v + 5, s=str(v), ha='center')\n",
    "        # 设置x坐标\n",
    "        plt.xlabel('image class')\n",
    "        # 设置y坐标\n",
    "        plt.ylabel('number of images')\n",
    "        # 设置柱状图的标题\n",
    "        plt.title('flower class distribution')\n",
    "        plt.show()\n",
    "\n",
    "    return train_images_path, train_images_label, val_images_path, val_images_label\n",
    "\n",
    "print(1)"
   ]
  },
  {
   "cell_type": "markdown",
   "id": "1e3b7043",
   "metadata": {},
   "source": [
    "### 2.2 导入数据集"
   ]
  },
  {
   "cell_type": "code",
   "execution_count": 6,
   "id": "dec4ea0f",
   "metadata": {},
   "outputs": [],
   "source": [
    "#设置数据集的参数\n",
    "data_path = \"./data\"\n",
    "batch_size = 8   #  一次读取的样本数量"
   ]
  },
  {
   "cell_type": "code",
   "execution_count": 7,
   "id": "07f55e25",
   "metadata": {},
   "outputs": [
    {
     "name": "stdout",
     "output_type": "stream",
     "text": [
      "21165 images were found in the dataset.\n",
      "16933 images for training.\n",
      "4232 images for validation.\n"
     ]
    },
    {
     "data": {
      "image/png": "[encoded data removed]",
      "text/plain": [
       "<Figure size 640x480 with 1 Axes>"
      ]
     },
     "metadata": {},
     "output_type": "display_data"
    }
   ],
   "source": [
    "# 读取训练集和验证集图像路径及标签\n",
    "train_images_path, train_images_label, val_images_path, val_images_label = read_split_data(data_path)\n",
    "\n",
    "data_transform = {\n",
    "    \"train\": transforms.Compose([transforms.RandomResizedCrop(224),\n",
    "                                 transforms.RandomHorizontalFlip(),\n",
    "                                 transforms.RandomRotation((-45, 45)),  # Added Random Rotation\n",
    "                                 transforms.ColorJitter(brightness=0.5),  # Added Brightness Adjustment\n",
    "                                 transforms.ToTensor(),\n",
    "                                 transforms.Normalize([0.5, 0.5, 0.5], [0.5, 0.5, 0.5])]),\n",
    "    \"val\": transforms.Compose([transforms.Resize(256),\n",
    "                               transforms.CenterCrop(224),\n",
    "                               transforms.ToTensor(),\n",
    "                               transforms.Normalize([0.5, 0.5, 0.5], [0.5, 0.5, 0.5])])\n",
    "}\n",
    "\n",
    "train_dataset = MyDataSet(images_path=train_images_path,\n",
    "                              images_class=train_images_label,\n",
    "                              transform=data_transform[\"train\"])\n",
    "\n",
    "val_dataset = MyDataSet(images_path=val_images_path,\n",
    "                            images_class=val_images_label,\n",
    "                            transform=data_transform[\"val\"])"
   ]
  },
  {
   "cell_type": "code",
   "execution_count": 8,
   "id": "a4b5f9cb",
   "metadata": {},
   "outputs": [
    {
     "name": "stdout",
     "output_type": "stream",
     "text": [
      "1\n"
     ]
    }
   ],
   "source": [
    "train_loader = torch.utils.data.DataLoader(train_dataset,\n",
    "                                               batch_size=batch_size,\n",
    "                                               shuffle=True,\n",
    "                                               pin_memory=True,\n",
    "                                               num_workers=0,\n",
    "                                               collate_fn=train_dataset.collate_fn)\n",
    "\n",
    "val_loader = torch.utils.data.DataLoader(val_dataset,\n",
    "                                             batch_size=batch_size,\n",
    "                                             shuffle=False,\n",
    "                                             pin_memory=True,\n",
    "                                             num_workers=0,\n",
    "                                             collate_fn=val_dataset.collate_fn)\n",
    "print(1)"
   ]
  },
  {
   "cell_type": "markdown",
   "id": "00f4d147",
   "metadata": {},
   "source": [
    "# 3.构建神经网络模型"
   ]
  },
  {
   "cell_type": "markdown",
   "id": "4ec517f4",
   "metadata": {},
   "source": [
    "### 3.1CNN模型"
   ]
  },
  {
   "cell_type": "code",
   "execution_count": 9,
   "id": "650727ed",
   "metadata": {},
   "outputs": [
    {
     "name": "stdout",
     "output_type": "stream",
     "text": [
      "1\n"
     ]
    },
    {
     "name": "stderr",
     "output_type": "stream",
     "text": [
      "C:\\Users\\DIO\\anaconda3\\envs\\name\\lib\\site-packages\\torchvision\\models\\_utils.py:208: UserWarning: The parameter 'pretrained' is deprecated since 0.13 and may be removed in the future, please use 'weights' instead.\n",
      "  warnings.warn(\n",
      "C:\\Users\\DIO\\anaconda3\\envs\\name\\lib\\site-packages\\torchvision\\models\\_utils.py:223: UserWarning: Arguments other than a weight enum or `None` for 'weights' are deprecated since 0.13 and may be removed in the future. The current behavior is equivalent to passing `weights=None`.\n",
      "  warnings.warn(msg)\n"
     ]
    }
   ],
   "source": [
    "import torchvision.models as models\n",
    "import torch.nn as nn\n",
    "\n",
    "# 加载MobileNetV2模型\n",
    "#mobilenet_v2 = models.mobilenet_v2(pretrained=False)\n",
    "mobilenet_v2 = models.mobilenet_v2(pretrained=False)\n",
    "# 如果你的任务只有4个类别，你可能需要更改最后一层，以匹配你的类别数量\n",
    "num_ftrs = mobilenet_v2.classifier[1].in_features\n",
    "mobilenet_v2.classifier[1] = nn.Linear(num_ftrs, 4)\n",
    "\n",
    "# 在模型选择这一步，选择MobileNetV2模型\n",
    "create_model = mobilenet_v2\n",
    "print(1)"
   ]
  },
  {
   "cell_type": "markdown",
   "id": "00021bff",
   "metadata": {},
   "source": [
    "# 4.配置模型"
   ]
  },
  {
   "cell_type": "code",
   "execution_count": 10,
   "id": "a282bb92",
   "metadata": {},
   "outputs": [],
   "source": [
    "# 配置参数\n",
    "#weights = \"./vit_base_patch16_224_in21k.pth\"\n",
    "device = \"cuda:0\"\n",
    "freeze_layers = True\n",
    "lr = 0.001\n",
    "lrf = 0.01\n",
    "epochs = 50"
   ]
  },
  {
   "cell_type": "code",
   "execution_count": 11,
   "id": "0928f2a1",
   "metadata": {},
   "outputs": [
    {
     "name": "stdout",
     "output_type": "stream",
     "text": [
      "CUDA is available!\n"
     ]
    }
   ],
   "source": [
    "# 选择设备：如果GPU可用则使用GPU，否则使用CPU\n",
    "device = torch.device(device if torch.cuda.is_available() else \"cpu\")\n",
    "if torch.cuda.is_available():\n",
    "    print('CUDA is available!')"
   ]
  },
  {
   "cell_type": "code",
   "execution_count": 12,
   "id": "00e3e474",
   "metadata": {},
   "outputs": [],
   "source": [
    "# 创建神经网络模型，并将其移至GPU/CPU设备上（根据可用性）\n",
    "model = create_model.to(device)"
   ]
  },
  {
   "cell_type": "markdown",
   "id": "bba9b9bf",
   "metadata": {},
   "source": [
    "定义预训练权重"
   ]
  },
  {
   "cell_type": "code",
   "execution_count": 13,
   "id": "75ce96eb",
   "metadata": {},
   "outputs": [],
   "source": [
    "#     # 创建weights文件夹以保存模型权重\n",
    "#     if os.path.exists(\"./weights\") is False:\n",
    "#         os.makedirs(\"./weights\")\n",
    "    \n",
    "#     # 如果提供了预训练权重，则加载这些权重到模型中，但不包括head、pre_logits等层\n",
    "#     if weights != \"\":\n",
    "#         assert os.path.exists(weights), \"weights file: '{}' not exist.\".format(args.weights)\n",
    "#         weights_dict = torch.load(weights, map_location=device)\n",
    "#         # 删除不需要的权重\n",
    "#         del_keys = ['head.weight', 'head.bias'] if model.has_logits \\\n",
    "#             else ['pre_logits.fc.weight', 'pre_logits.fc.bias', 'head.weight', 'head.bias']\n",
    "#         for k in del_keys:\n",
    "#             del weights_dict[k]\n",
    "#         print(model.load_state_dict(weights_dict, strict=False))#用load_state_dict()方法将保存的模型权重加载到神经网络模型中。\n",
    "#         #weights_dic包含预先训练好的权重。\n",
    "\n",
    "#     #如果指定了要冻结的层，则将其权重设置为不可训练   \n",
    "#     if freeze_layers:\n",
    "#         for name, para in model.named_parameters():\n",
    "#             # 除head, pre_logits外，其他权重全部冻结\n",
    "#             if \"head\" not in name and \"pre_logits\" not in name:\n",
    "#                 para.requires_grad_(False)\n",
    "#             else:\n",
    "#                 print(\"training {}\".format(name))\n",
    "\n",
    "\n"
   ]
  },
  {
   "cell_type": "markdown",
   "id": "13ee363f",
   "metadata": {},
   "source": [
    "定义优化器"
   ]
  },
  {
   "cell_type": "code",
   "execution_count": 14,
   "id": "287f9398",
   "metadata": {},
   "outputs": [
    {
     "name": "stdout",
     "output_type": "stream",
     "text": [
      "1\n"
     ]
    }
   ],
   "source": [
    "# 获取所有需要训练的参数\n",
    "pg = [p for p in model.parameters() if p.requires_grad]\n",
    "# 定义优化器（使用随机梯度下降法）和学习率调度器（余弦退火）\n",
    "optimizer = optim.SGD(pg, lr=lr, momentum=0.9, weight_decay=5E-5)\n",
    "# 定义余弦退火函数\n",
    "lf = lambda x: ((1 + math.cos(x * math.pi / epochs)) / 2) * (1 - lrf) + lrf  # cosine\n",
    "# 使用LambdaLR调度器来更新学习率\n",
    "scheduler = lr_scheduler.LambdaLR(optimizer, lr_lambda=lf)\n",
    "print(1)"
   ]
  },
  {
   "cell_type": "markdown",
   "id": "3bf053e8",
   "metadata": {},
   "source": [
    "# 5.训练模型"
   ]
  },
  {
   "cell_type": "markdown",
   "id": "ca9bf6e7",
   "metadata": {},
   "source": [
    "### 5.1定义训练和验证函数"
   ]
  },
  {
   "cell_type": "code",
   "execution_count": 15,
   "id": "e7385504",
   "metadata": {},
   "outputs": [
    {
     "name": "stdout",
     "output_type": "stream",
     "text": [
      "1\n"
     ]
    }
   ],
   "source": [
    "def train_one_epoch(model, optimizer, data_loader, device, epoch):\n",
    "    model.train()\n",
    "    loss_function = torch.nn.CrossEntropyLoss()\n",
    "    accu_loss = torch.zeros(1).to(device)\n",
    "    accu_num = torch.zeros(1).to(device)\n",
    "    optimizer.zero_grad()\n",
    "\n",
    "    # Initialize confusion matrix\n",
    "    num_classes = 4\n",
    "    conf_matrix = torch.zeros(num_classes, num_classes)\n",
    "\n",
    "    sample_num = 0\n",
    "    data_loader = tqdm(data_loader, file=sys.stdout)\n",
    "    for step, data in enumerate(data_loader):\n",
    "        images, labels = data\n",
    "        sample_num += images.shape[0]\n",
    "\n",
    "        pred = model(images.to(device))\n",
    "        pred_classes = torch.max(pred, dim=1)[1]\n",
    "        accu_num += torch.eq(pred_classes, labels.to(device)).sum()\n",
    "\n",
    "        # Update confusion matrix\n",
    "        for t, p in zip(labels.view(-1), pred_classes.view(-1)):\n",
    "            conf_matrix[t.long(), p.long()] += 1\n",
    "\n",
    "        loss = loss_function(pred, labels.to(device))\n",
    "        loss.backward()\n",
    "        accu_loss += loss.detach()\n",
    "\n",
    "        data_loader.desc = \"[train epoch {}] loss: {:.3f}, acc: {:.3f}\".format(epoch,\n",
    "                                                                               accu_loss.item() / (step + 1),\n",
    "                                                                               accu_num.item() / sample_num)\n",
    "\n",
    "        if not torch.isfinite(loss):\n",
    "            print('WARNING: non-finite loss, ending training ', loss)\n",
    "            sys.exit(1)\n",
    "\n",
    "        optimizer.step()\n",
    "        optimizer.zero_grad()\n",
    "\n",
    "    # Compute precision, recall and FPR for each class\n",
    "    TP = torch.diag(conf_matrix)\n",
    "    FP = conf_matrix.sum(dim=0) - TP\n",
    "    FN = conf_matrix.sum(dim=1) - TP\n",
    "    precision = TP / (TP + FP)\n",
    "    recall = TP / (TP + FN)\n",
    "    fpr = FP / (FP + (conf_matrix.sum(dim=1) - FN))\n",
    "\n",
    "    # Compute accuracy\n",
    "    accuracy = TP.sum() / conf_matrix.sum()\n",
    "\n",
    "    return accu_loss.item() / (step + 1), accuracy.item(), precision, recall, fpr\n",
    "\n",
    "print(1)"
   ]
  },
  {
   "cell_type": "code",
   "execution_count": 16,
   "id": "75444cdc",
   "metadata": {},
   "outputs": [
    {
     "name": "stdout",
     "output_type": "stream",
     "text": [
      "1\n"
     ]
    }
   ],
   "source": [
    "@torch.no_grad()\n",
    "def evaluate(model, data_loader, device, epoch):\n",
    "    loss_function = torch.nn.CrossEntropyLoss()\n",
    "\n",
    "    model.eval()\n",
    "\n",
    "    accu_num = torch.zeros(1).to(device)\n",
    "    accu_loss = torch.zeros(1).to(device)\n",
    "\n",
    "    # Initialize confusion matrix\n",
    "    num_classes = 4\n",
    "    conf_matrix = torch.zeros(num_classes, num_classes)\n",
    "\n",
    "    sample_num = 0\n",
    "    data_loader = tqdm(data_loader, file=sys.stdout)\n",
    "    for step, data in enumerate(data_loader):\n",
    "        images, labels = data\n",
    "        sample_num += images.shape[0]\n",
    "\n",
    "        pred = model(images.to(device))\n",
    "        pred_classes = torch.max(pred, dim=1)[1]\n",
    "        accu_num += torch.eq(pred_classes, labels.to(device)).sum()\n",
    "\n",
    "        # Update confusion matrix\n",
    "        for t, p in zip(labels.view(-1), pred_classes.view(-1)):\n",
    "            conf_matrix[t.long(), p.long()] += 1\n",
    "\n",
    "        loss = loss_function(pred, labels.to(device))\n",
    "        accu_loss += loss\n",
    "\n",
    "        data_loader.desc = \"[valid epoch {}] loss: {:.3f}, acc: {:.3f}\".format(epoch,\n",
    "                                                                               accu_loss.item() / (step + 1),\n",
    "                                                                               accu_num.item() / sample_num)\n",
    "\n",
    "    # Compute precision, recall and FPR for each class\n",
    "    TP = torch.diag(conf_matrix)\n",
    "    FP = conf_matrix.sum(dim=0) - TP\n",
    "    FN = conf_matrix.sum(dim=1) - TP\n",
    "    precision = TP / (TP + FP)\n",
    "    recall = TP / (TP + FN)\n",
    "    fpr = FP / (FP + (conf_matrix.sum(dim=1) - FN))\n",
    "\n",
    "    # Compute accuracy\n",
    "    accuracy = TP.sum() / conf_matrix.sum()\n",
    "\n",
    "    return accu_loss.item() / (step + 1), accuracy.item(), precision, recall, fpr\n",
    "\n",
    "print(1)"
   ]
  },
  {
   "cell_type": "markdown",
   "id": "1f31fa72",
   "metadata": {},
   "source": [
    "### 5.2训练"
   ]
  },
  {
   "cell_type": "code",
   "execution_count": 17,
   "id": "6f0fe4d6",
   "metadata": {},
   "outputs": [],
   "source": [
    "from datetime import datetime\n",
    "\n",
    "# 实例化tensorboard日志记录器,在日志目录的路径中添加模型的名称和当前的日期时间\n",
    "model_name = 'mobilenet_v2'\n",
    "current_time = datetime.now().strftime('%b%d_%H-%M-%S')\n",
    "log_dir = './runs/{}/{}'.format(model_name, current_time)\n",
    "tb_writer = SummaryWriter(log_dir=log_dir)"
   ]
  },
  {
   "cell_type": "code",
   "execution_count": 18,
   "id": "97312dc5",
   "metadata": {},
   "outputs": [
    {
     "name": "stdout",
     "output_type": "stream",
     "text": [
      "[train epoch 0] loss: 1.152, acc: 0.510: 100%|█████████████████████████████████████| 2117/2117 [02:02<00:00, 17.30it/s]\n",
      "[valid epoch 0] loss: 0.949, acc: 0.618: 100%|███████████████████████████████████████| 529/529 [00:20<00:00, 25.49it/s]\n",
      "[train epoch 1] loss: 1.095, acc: 0.535: 100%|█████████████████████████████████████| 2117/2117 [01:58<00:00, 17.88it/s]\n",
      "[valid epoch 1] loss: 0.879, acc: 0.646: 100%|███████████████████████████████████████| 529/529 [00:19<00:00, 27.74it/s]\n",
      "[train epoch 2] loss: 1.053, acc: 0.544: 100%|█████████████████████████████████████| 2117/2117 [01:58<00:00, 17.92it/s]\n",
      "[valid epoch 2] loss: 0.783, acc: 0.664: 100%|███████████████████████████████████████| 529/529 [00:19<00:00, 27.37it/s]\n",
      "[train epoch 3] loss: 1.018, acc: 0.566: 100%|█████████████████████████████████████| 2117/2117 [02:02<00:00, 17.26it/s]\n",
      "[valid epoch 3] loss: 0.875, acc: 0.615: 100%|███████████████████████████████████████| 529/529 [00:19<00:00, 26.68it/s]\n",
      "[train epoch 4] loss: 0.998, acc: 0.575: 100%|█████████████████████████████████████| 2117/2117 [02:02<00:00, 17.29it/s]\n",
      "[valid epoch 4] loss: 0.866, acc: 0.670: 100%|███████████████████████████████████████| 529/529 [00:19<00:00, 26.66it/s]\n",
      "[train epoch 5] loss: 0.979, acc: 0.582: 100%|█████████████████████████████████████| 2117/2117 [02:02<00:00, 17.31it/s]\n",
      "[valid epoch 5] loss: 0.773, acc: 0.674: 100%|███████████████████████████████████████| 529/529 [00:20<00:00, 26.12it/s]\n",
      "[train epoch 6] loss: 0.954, acc: 0.594: 100%|█████████████████████████████████████| 2117/2117 [02:14<00:00, 15.75it/s]\n",
      "[valid epoch 6] loss: 0.706, acc: 0.712: 100%|███████████████████████████████████████| 529/529 [00:19<00:00, 26.81it/s]\n",
      "[train epoch 7] loss: 0.943, acc: 0.605: 100%|█████████████████████████████████████| 2117/2117 [02:02<00:00, 17.32it/s]\n",
      "[valid epoch 7] loss: 0.748, acc: 0.700: 100%|███████████████████████████████████████| 529/529 [00:19<00:00, 26.76it/s]\n",
      "[train epoch 8] loss: 0.915, acc: 0.617: 100%|█████████████████████████████████████| 2117/2117 [02:02<00:00, 17.29it/s]\n",
      "[valid epoch 8] loss: 0.642, acc: 0.749: 100%|███████████████████████████████████████| 529/529 [00:20<00:00, 26.23it/s]\n",
      "[train epoch 9] loss: 0.898, acc: 0.624: 100%|█████████████████████████████████████| 2117/2117 [02:03<00:00, 17.19it/s]\n",
      "[valid epoch 9] loss: 0.630, acc: 0.752: 100%|███████████████████████████████████████| 529/529 [00:19<00:00, 26.55it/s]\n",
      "[train epoch 10] loss: 0.883, acc: 0.634: 100%|████████████████████████████████████| 2117/2117 [02:03<00:00, 17.12it/s]\n",
      "[valid epoch 10] loss: 0.612, acc: 0.763: 100%|██████████████████████████████████████| 529/529 [00:20<00:00, 26.26it/s]\n",
      "[train epoch 11] loss: 0.870, acc: 0.640: 100%|████████████████████████████████████| 2117/2117 [02:04<00:00, 16.94it/s]\n",
      "[valid epoch 11] loss: 0.624, acc: 0.761: 100%|██████████████████████████████████████| 529/529 [00:20<00:00, 25.89it/s]\n",
      "[train epoch 12] loss: 0.846, acc: 0.652: 100%|████████████████████████████████████| 2117/2117 [02:04<00:00, 17.05it/s]\n",
      "[valid epoch 12] loss: 0.696, acc: 0.724: 100%|██████████████████████████████████████| 529/529 [00:19<00:00, 26.85it/s]\n",
      "[train epoch 13] loss: 0.839, acc: 0.654: 100%|████████████████████████████████████| 2117/2117 [02:03<00:00, 17.11it/s]\n",
      "[valid epoch 13] loss: 0.529, acc: 0.802: 100%|██████████████████████████████████████| 529/529 [00:19<00:00, 26.50it/s]\n",
      "[train epoch 14] loss: 0.821, acc: 0.663: 100%|████████████████████████████████████| 2117/2117 [02:03<00:00, 17.18it/s]\n",
      "[valid epoch 14] loss: 0.684, acc: 0.735: 100%|██████████████████████████████████████| 529/529 [00:20<00:00, 25.75it/s]\n",
      "[train epoch 15] loss: 0.814, acc: 0.670: 100%|████████████████████████████████████| 2117/2117 [02:08<00:00, 16.47it/s]\n",
      "[valid epoch 15] loss: 0.533, acc: 0.799: 100%|██████████████████████████████████████| 529/529 [00:20<00:00, 25.27it/s]\n",
      "[train epoch 16] loss: 0.806, acc: 0.675: 100%|████████████████████████████████████| 2117/2117 [02:07<00:00, 16.54it/s]\n",
      "[valid epoch 16] loss: 0.528, acc: 0.796: 100%|██████████████████████████████████████| 529/529 [00:20<00:00, 25.87it/s]\n",
      "[train epoch 17] loss: 0.783, acc: 0.681: 100%|████████████████████████████████████| 2117/2117 [02:05<00:00, 16.83it/s]\n",
      "[valid epoch 17] loss: 0.553, acc: 0.781: 100%|██████████████████████████████████████| 529/529 [00:21<00:00, 24.54it/s]\n",
      "[train epoch 18] loss: 0.769, acc: 0.688: 100%|████████████████████████████████████| 2117/2117 [02:07<00:00, 16.61it/s]\n",
      "[valid epoch 18] loss: 0.558, acc: 0.782: 100%|██████████████████████████████████████| 529/529 [00:20<00:00, 26.18it/s]\n",
      "[train epoch 19] loss: 0.750, acc: 0.698: 100%|████████████████████████████████████| 2117/2117 [02:03<00:00, 17.10it/s]\n",
      "[valid epoch 19] loss: 0.517, acc: 0.813: 100%|██████████████████████████████████████| 529/529 [00:20<00:00, 26.36it/s]\n",
      "[train epoch 20] loss: 0.739, acc: 0.705: 100%|████████████████████████████████████| 2117/2117 [02:02<00:00, 17.24it/s]\n",
      "[valid epoch 20] loss: 0.536, acc: 0.796: 100%|██████████████████████████████████████| 529/529 [00:19<00:00, 26.52it/s]\n",
      "[train epoch 21] loss: 0.733, acc: 0.704: 100%|████████████████████████████████████| 2117/2117 [02:02<00:00, 17.22it/s]\n",
      "[valid epoch 21] loss: 0.459, acc: 0.826: 100%|██████████████████████████████████████| 529/529 [00:19<00:00, 26.91it/s]\n",
      "[train epoch 22] loss: 0.719, acc: 0.712: 100%|████████████████████████████████████| 2117/2117 [02:02<00:00, 17.31it/s]\n",
      "[valid epoch 22] loss: 0.459, acc: 0.824: 100%|██████████████████████████████████████| 529/529 [00:19<00:00, 26.48it/s]\n",
      "[train epoch 23] loss: 0.709, acc: 0.717: 100%|████████████████████████████████████| 2117/2117 [02:02<00:00, 17.28it/s]\n",
      "[valid epoch 23] loss: 0.416, acc: 0.845: 100%|██████████████████████████████████████| 529/529 [00:19<00:00, 26.64it/s]\n",
      "[train epoch 24] loss: 0.683, acc: 0.731: 100%|████████████████████████████████████| 2117/2117 [02:03<00:00, 17.19it/s]\n",
      "[valid epoch 24] loss: 0.416, acc: 0.848: 100%|██████████████████████████████████████| 529/529 [00:22<00:00, 23.69it/s]\n",
      "[train epoch 25] loss: 0.690, acc: 0.725: 100%|████████████████████████████████████| 2117/2117 [02:03<00:00, 17.20it/s]\n",
      "[valid epoch 25] loss: 0.470, acc: 0.831: 100%|██████████████████████████████████████| 529/529 [00:19<00:00, 26.76it/s]\n",
      "[train epoch 26] loss: 0.679, acc: 0.730: 100%|████████████████████████████████████| 2117/2117 [02:02<00:00, 17.35it/s]\n",
      "[valid epoch 26] loss: 0.432, acc: 0.845: 100%|██████████████████████████████████████| 529/529 [00:19<00:00, 26.78it/s]\n",
      "[train epoch 27] loss: 0.665, acc: 0.735: 100%|████████████████████████████████████| 2117/2117 [02:01<00:00, 17.40it/s]\n",
      "[valid epoch 27] loss: 0.414, acc: 0.853: 100%|██████████████████████████████████████| 529/529 [00:19<00:00, 26.62it/s]\n",
      "[train epoch 28] loss: 0.657, acc: 0.737: 100%|████████████████████████████████████| 2117/2117 [02:01<00:00, 17.38it/s]\n",
      "[valid epoch 28] loss: 0.480, acc: 0.822: 100%|██████████████████████████████████████| 529/529 [00:19<00:00, 26.69it/s]\n",
      "[train epoch 29] loss: 0.648, acc: 0.744: 100%|████████████████████████████████████| 2117/2117 [02:02<00:00, 17.33it/s]\n",
      "[valid epoch 29] loss: 0.425, acc: 0.841: 100%|██████████████████████████████████████| 529/529 [00:19<00:00, 26.71it/s]\n",
      "[train epoch 30] loss: 0.638, acc: 0.752: 100%|████████████████████████████████████| 2117/2117 [02:02<00:00, 17.31it/s]\n",
      "[valid epoch 30] loss: 0.372, acc: 0.863: 100%|██████████████████████████████████████| 529/529 [00:19<00:00, 26.81it/s]\n",
      "[train epoch 31] loss: 0.629, acc: 0.753: 100%|████████████████████████████████████| 2117/2117 [02:01<00:00, 17.39it/s]\n",
      "[valid epoch 31] loss: 0.387, acc: 0.861: 100%|██████████████████████████████████████| 529/529 [00:19<00:00, 26.72it/s]\n",
      "[train epoch 32] loss: 0.618, acc: 0.759: 100%|████████████████████████████████████| 2117/2117 [02:02<00:00, 17.25it/s]\n",
      "[valid epoch 32] loss: 0.368, acc: 0.864: 100%|██████████████████████████████████████| 529/529 [00:19<00:00, 27.00it/s]\n",
      "[train epoch 33] loss: 0.617, acc: 0.760: 100%|████████████████████████████████████| 2117/2117 [02:01<00:00, 17.36it/s]\n",
      "[valid epoch 33] loss: 0.357, acc: 0.873: 100%|██████████████████████████████████████| 529/529 [00:19<00:00, 26.79it/s]\n",
      "[train epoch 34] loss: 0.609, acc: 0.763: 100%|████████████████████████████████████| 2117/2117 [02:02<00:00, 17.33it/s]\n",
      "[valid epoch 34] loss: 0.368, acc: 0.870: 100%|██████████████████████████████████████| 529/529 [00:19<00:00, 26.46it/s]\n",
      "[train epoch 35] loss: 0.599, acc: 0.765: 100%|████████████████████████████████████| 2117/2117 [02:02<00:00, 17.35it/s]\n",
      "[valid epoch 35] loss: 0.348, acc: 0.879: 100%|██████████████████████████████████████| 529/529 [00:19<00:00, 26.54it/s]\n",
      "[train epoch 36] loss: 0.591, acc: 0.771: 100%|████████████████████████████████████| 2117/2117 [02:01<00:00, 17.41it/s]\n",
      "[valid epoch 36] loss: 0.343, acc: 0.874: 100%|██████████████████████████████████████| 529/529 [00:20<00:00, 26.37it/s]\n",
      "[train epoch 37] loss: 0.589, acc: 0.768: 100%|████████████████████████████████████| 2117/2117 [02:02<00:00, 17.28it/s]\n",
      "[valid epoch 37] loss: 0.335, acc: 0.878: 100%|██████████████████████████████████████| 529/529 [00:19<00:00, 26.56it/s]\n",
      "[train epoch 38] loss: 0.577, acc: 0.779: 100%|████████████████████████████████████| 2117/2117 [02:01<00:00, 17.38it/s]\n",
      "[valid epoch 38] loss: 0.336, acc: 0.881: 100%|██████████████████████████████████████| 529/529 [00:19<00:00, 26.84it/s]\n",
      "[train epoch 39] loss: 0.576, acc: 0.778: 100%|████████████████████████████████████| 2117/2117 [02:01<00:00, 17.39it/s]\n",
      "[valid epoch 39] loss: 0.325, acc: 0.885: 100%|██████████████████████████████████████| 529/529 [00:19<00:00, 26.97it/s]\n",
      "[train epoch 40] loss: 0.567, acc: 0.784: 100%|████████████████████████████████████| 2117/2117 [02:02<00:00, 17.35it/s]\n",
      "[valid epoch 40] loss: 0.341, acc: 0.878: 100%|██████████████████████████████████████| 529/529 [00:19<00:00, 26.64it/s]\n",
      "[train epoch 41] loss: 0.564, acc: 0.780: 100%|████████████████████████████████████| 2117/2117 [02:01<00:00, 17.36it/s]\n",
      "[valid epoch 41] loss: 0.346, acc: 0.875: 100%|██████████████████████████████████████| 529/529 [00:20<00:00, 26.42it/s]\n",
      "[train epoch 42] loss: 0.566, acc: 0.782: 100%|████████████████████████████████████| 2117/2117 [02:02<00:00, 17.31it/s]\n",
      "[valid epoch 42] loss: 0.335, acc: 0.885: 100%|██████████████████████████████████████| 529/529 [00:19<00:00, 26.52it/s]\n",
      "[train epoch 43] loss: 0.548, acc: 0.787: 100%|████████████████████████████████████| 2117/2117 [02:02<00:00, 17.30it/s]\n",
      "[valid epoch 43] loss: 0.325, acc: 0.883: 100%|██████████████████████████████████████| 529/529 [00:19<00:00, 26.77it/s]\n",
      "[train epoch 44] loss: 0.552, acc: 0.787: 100%|████████████████████████████████████| 2117/2117 [02:02<00:00, 17.34it/s]\n",
      "[valid epoch 44] loss: 0.320, acc: 0.889: 100%|██████████████████████████████████████| 529/529 [00:19<00:00, 26.94it/s]\n",
      "[train epoch 45] loss: 0.556, acc: 0.787: 100%|████████████████████████████████████| 2117/2117 [02:02<00:00, 17.25it/s]\n",
      "[valid epoch 45] loss: 0.343, acc: 0.882: 100%|██████████████████████████████████████| 529/529 [00:19<00:00, 26.68it/s]\n",
      "[train epoch 46] loss: 0.542, acc: 0.790: 100%|████████████████████████████████████| 2117/2117 [02:01<00:00, 17.36it/s]\n",
      "[valid epoch 46] loss: 0.323, acc: 0.887: 100%|██████████████████████████████████████| 529/529 [00:19<00:00, 26.91it/s]\n",
      "[train epoch 47] loss: 0.549, acc: 0.789: 100%|████████████████████████████████████| 2117/2117 [02:02<00:00, 17.34it/s]\n",
      "[valid epoch 47] loss: 0.341, acc: 0.880: 100%|██████████████████████████████████████| 529/529 [00:19<00:00, 26.70it/s]\n",
      "[train epoch 48] loss: 0.551, acc: 0.787: 100%|████████████████████████████████████| 2117/2117 [02:02<00:00, 17.35it/s]\n",
      "[valid epoch 48] loss: 0.327, acc: 0.885: 100%|██████████████████████████████████████| 529/529 [00:19<00:00, 26.60it/s]\n",
      "[train epoch 49] loss: 0.553, acc: 0.785: 100%|████████████████████████████████████| 2117/2117 [02:02<00:00, 17.33it/s]\n",
      "[valid epoch 49] loss: 0.319, acc: 0.889: 100%|██████████████████████████████████████| 529/529 [00:19<00:00, 26.85it/s]\n"
     ]
    }
   ],
   "source": [
    "# 开始训练循环\n",
    "for epoch in range(epochs):\n",
    "    ## 在训练集上进行一次完整的训练迭代，并返回训练损失和准确率\n",
    "    train_loss, train_acc, train_precision, train_recall, train_fpr = train_one_epoch(\n",
    "        model=model,\n",
    "        optimizer=optimizer,\n",
    "        data_loader=train_loader,\n",
    "        device=device,\n",
    "        epoch=epoch\n",
    "    )\n",
    "\n",
    "    # 更新学习率\n",
    "    scheduler.step()\n",
    "\n",
    "    # 在验证集上进行测试，并返回测试损失和准确率\n",
    "    val_loss, val_acc, val_precision, val_recall, val_fpr = evaluate(\n",
    "        model=model,\n",
    "        data_loader=val_loader,\n",
    "        device=device,\n",
    "        epoch=epoch\n",
    "    )\n",
    "        \n",
    "    # 将训练/验证损失和准确率以及当前学习率写入tensorboard文件中\n",
    "    tags = [\"train_loss\", \"train_acc\", \"val_loss\", \"val_acc\", \"learning_rate\", \n",
    "            \"train_precision\", \"train_recall\", \"train_fpr\",\n",
    "            \"val_precision\", \"val_recall\", \"val_fpr\"]\n",
    "    \n",
    "    tb_writer.add_scalar(tags[0], train_loss, epoch)\n",
    "    tb_writer.add_scalar(tags[1], train_acc, epoch)\n",
    "    tb_writer.add_scalar(tags[2], val_loss, epoch)\n",
    "    tb_writer.add_scalar(tags[3], val_acc, epoch)\n",
    "    tb_writer.add_scalar(tags[4], optimizer.param_groups[0][\"lr\"], epoch)\n",
    "    tb_writer.add_scalar(tags[5], train_precision.mean().item(), epoch)  # Save mean precision for each epoch\n",
    "    tb_writer.add_scalar(tags[6], train_recall.mean().item(), epoch)     # Save mean recall for each epoch\n",
    "    tb_writer.add_scalar(tags[7], train_fpr.mean().item(), epoch)        # Save mean fpr for each epoch\n",
    "    tb_writer.add_scalar(tags[8], val_precision.mean().item(), epoch)    # Save mean precision for each epoch\n",
    "    tb_writer.add_scalar(tags[9], val_recall.mean().item(), epoch)       # Save mean recall for each epoch\n",
    "    tb_writer.add_scalar(tags[10], val_fpr.mean().item(), epoch)         # Save mean fpr for each epoch\n",
    "\n",
    "    # 保存当前模型的权重到磁盘上\n",
    "    #torch.save(model.state_dict(), \"./weights/{}_epoch_{}.pth\".format(model_name, epoch))"
   ]
  },
  {
   "cell_type": "markdown",
   "id": "cb0582df",
   "metadata": {},
   "source": [
    "# 评估模型"
   ]
  },
  {
   "cell_type": "code",
   "execution_count": 19,
   "id": "da93b95c",
   "metadata": {},
   "outputs": [
    {
     "name": "stdout",
     "output_type": "stream",
     "text": [
      "Confusion Matrix:\n",
      "[[ 263  182  277    1]\n",
      " [  30  947  220    5]\n",
      " [  37  121 1865   15]\n",
      " [   1   17   43  208]]\n"
     ]
    },
    {
     "data": {
      "image/png": "[encoded data removed]",
      "text/plain": [
       "<Figure size 640x480 with 2 Axes>"
      ]
     },
     "metadata": {},
     "output_type": "display_data"
    }
   ],
   "source": [
    "import matplotlib.pyplot as plt\n",
    "from sklearn.metrics import confusion_matrix\n",
    "import numpy as np\n",
    "\n",
    "# 首先我们需要预测所有测试集的标签，以便创建混淆矩阵\n",
    "@torch.no_grad()\n",
    "def get_all_preds_and_targets(model, data_loader, device):\n",
    "    all_preds = torch.tensor([]).to(device)\n",
    "    all_targets = torch.tensor([]).to(device)\n",
    "    for data in data_loader:\n",
    "        images, labels = data\n",
    "        images = images.to(device)\n",
    "        labels = labels.to(device)\n",
    "\n",
    "        preds = model(images)\n",
    "        all_preds = torch.cat((all_preds, preds), dim=0)\n",
    "        all_targets = torch.cat((all_targets, labels), dim=0)\n",
    "    return all_preds, all_targets\n",
    "\n",
    "# 获取预测的类别和真实的类别\n",
    "all_preds, all_targets = get_all_preds_and_targets(model, val_loader, device)\n",
    "_, pred_classes = all_preds.max(dim=1)\n",
    "\n",
    "# 创建混淆矩阵\n",
    "cf_matrix = confusion_matrix(all_targets.cpu().numpy(), pred_classes.cpu().numpy())\n",
    "print('Confusion Matrix:')\n",
    "print(cf_matrix)\n",
    "\n",
    "# 画出混淆矩阵\n",
    "plt.imshow(cf_matrix, interpolation='nearest', cmap=plt.cm.Blues)\n",
    "plt.title('Confusion matrix')\n",
    "plt.colorbar()\n",
    "plt.tight_layout()\n",
    "plt.ylabel('True label')\n",
    "plt.xlabel('Predicted label')\n",
    "plt.show()"
   ]
  },
  {
   "cell_type": "code",
   "execution_count": null,
   "id": "e8365b0b",
   "metadata": {},
   "outputs": [],
   "source": [
    "from tensorboard.backend.event_processing.event_accumulator import EventAccumulator\n",
    "\n",
    "def plot_tensorboard_log(path):\n",
    "    # 加载日志数据\n",
    "    event_acc = EventAccumulator(path)\n",
    "    event_acc.Reload()\n",
    "\n",
    "    # 显示所有可以获取的数据键\n",
    "    print(event_acc.Tags())\n",
    "\n",
    "    # 获取并打印 precision、recall、FPR 和识别准确度的数据\n",
    "    precision = event_acc.Scalars('train_precision')\n",
    "    recall = event_acc.Scalars('train_recall')\n",
    "    fpr = event_acc.Scalars('train_fpr')\n",
    "    acc = event_acc.Scalars('train_acc')\n",
    "\n",
    "    # 显示最终的 precision、recall、FPR 和 Accuracy\n",
    "    print(f\"Final Precision: {precision[-1].value}\")\n",
    "    print(f\"Final Recall: {recall[-1].value}\")\n",
    "    print(f\"Final FPR: {fpr[-1].value}\")\n",
    "    print(f\"Final Accuracy: {acc[-1].value}\")\n",
    "\n",
    "# 假设我们的 tensorboard 日志路径是 './runs/CNN/your_time_folder'\n",
    "tensorboard_log_dir = './runs/CNN/Jun06_07-57-01'\n",
    "plot_tensorboard_log(tensorboard_log_dir)\n"
   ]
  },
  {
   "cell_type": "code",
   "execution_count": null,
   "id": "4020a152",
   "metadata": {},
   "outputs": [],
   "source": []
  },
  {
   "cell_type": "code",
   "execution_count": null,
   "id": "6f9e7ff7",
   "metadata": {},
   "outputs": [],
   "source": []
  }
 ],
 "metadata": {
  "kernelspec": {
   "display_name": "torch_gpu",
   "language": "python",
   "name": "torch_gpu"
  },
  "language_info": {
   "codemirror_mode": {
    "name": "ipython",
    "version": 3
   },
   "file_extension": ".py",
   "mimetype": "text/x-python",
   "name": "python",
   "nbconvert_exporter": "python",
   "pygments_lexer": "ipython3",
   "version": "3.9.16"
  }
 },
 "nbformat": 4,
 "nbformat_minor": 5
}
